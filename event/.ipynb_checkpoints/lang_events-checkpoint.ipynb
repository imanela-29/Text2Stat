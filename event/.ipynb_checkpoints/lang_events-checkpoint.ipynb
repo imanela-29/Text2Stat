{
 "cells": [
  {
   "cell_type": "code",
   "execution_count": 1,
   "metadata": {},
   "outputs": [],
   "source": [
    "from langdetect import detect\n",
    "from langdetect import DetectorFactory\n",
    "DetectorFactory.seed = 0"
   ]
  },
  {
   "cell_type": "code",
   "execution_count": null,
   "metadata": {},
   "outputs": [],
   "source": [
    "#import re"
   ]
  },
  {
   "cell_type": "code",
   "execution_count": null,
   "metadata": {},
   "outputs": [],
   "source": [
    "#regex = re.compile('[@_!#$%^&*()<>?/\\|}{~:]')"
   ]
  },
  {
   "cell_type": "code",
   "execution_count": 2,
   "metadata": {},
   "outputs": [],
   "source": [
    "f = open('events1.txt', 'r', encoding='utf-8')\n",
    "\n",
    "fr_output = open('fr-events.txt', 'a', encoding='utf-8')\n",
    "ar_output = open('ar-events.txt', 'a', encoding='utf-8')"
   ]
  },
  {
   "cell_type": "code",
   "execution_count": 3,
   "metadata": {},
   "outputs": [],
   "source": [
    "for x in f:\n",
    "    # Language Detection\n",
    "    try:\n",
    "        lang2 = detect(x)\n",
    "        if lang2 == 'ar':\n",
    "            ar_output.write(x)\n",
    "            ar_output.write(\"\\n\")\n",
    "        else:\n",
    "            fr_output.write(x)\n",
    "            fr_output.write(\"\\n\")\n",
    "    except:\n",
    "        fr_output.write(x)\n",
    "        fr_output.write(\"\\n\")"
   ]
  },
  {
   "cell_type": "code",
   "execution_count": 4,
   "metadata": {},
   "outputs": [],
   "source": [
    "fr_output.close()\n",
    "ar_output.close()\n",
    "f.close()"
   ]
  },
  {
   "cell_type": "code",
   "execution_count": null,
   "metadata": {},
   "outputs": [],
   "source": []
  }
 ],
 "metadata": {
  "kernelspec": {
   "display_name": "Python 3",
   "language": "python",
   "name": "python3"
  },
  "language_info": {
   "codemirror_mode": {
    "name": "ipython",
    "version": 3
   },
   "file_extension": ".py",
   "mimetype": "text/x-python",
   "name": "python",
   "nbconvert_exporter": "python",
   "pygments_lexer": "ipython3",
   "version": "3.8.5"
  }
 },
 "nbformat": 4,
 "nbformat_minor": 4
}
