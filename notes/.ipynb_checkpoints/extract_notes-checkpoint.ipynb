{
 "cells": [
  {
   "cell_type": "code",
   "execution_count": null,
   "metadata": {},
   "outputs": [],
   "source": [
    "import requests\n",
    "from bs4 import BeautifulSoup"
   ]
  },
  {
   "cell_type": "code",
   "execution_count": null,
   "metadata": {},
   "outputs": [],
   "source": [
    "def nbr_pages():\n",
    "    global notre_li\n",
    "    nbr = []\n",
    "    url1 = 'http://www.ump.ma/fr/notes'\n",
    "    response1 = requests.get(url1)\n",
    "    if response1.ok:\n",
    "        soup1 = BeautifulSoup(response1.text, 'lxml')\n",
    "        uls = soup1.findAll('ul', class_='pagination')\n",
    "        for ul in uls:\n",
    "            for li in ul.findAll('li'):\n",
    "                nbr.append(li)\n",
    "                index = len(nbr) - 2\n",
    "                notre_li = nbr[index]\n",
    "        notre_a = notre_li.find('a')\n",
    "        nombre = notre_a.text  # nombre de pages existantes qu'on va parcourir\n",
    "        n = int(nombre)\n",
    "        return n"
   ]
  },
  {
   "cell_type": "code",
   "execution_count": null,
   "metadata": {},
   "outputs": [],
   "source": [
    "def liens(number):\n",
    "    global les_liens\n",
    "    url2 = 'http://www.ump.ma/fr/notes?page=' + number\n",
    "    response2 = requests.get(url2)\n",
    "\n",
    "    if response2.ok:\n",
    "        soup2 = BeautifulSoup(response2.text, 'lxml')\n",
    "        divs = soup2.findAll('div', class_='caption')\n",
    "        les_liens = []\n",
    "        for div in divs:  # on a 9 div dans une page, chaque div représente un article\n",
    "            a = div.find('a')\n",
    "            un_lien = a['href']  # pour chaque div des 9 on recupere le href qui est dans a\n",
    "            les_liens.append(un_lien)  # on les met dans une liste\n",
    "    return les_liens"
   ]
  },
  {
   "cell_type": "code",
   "execution_count": null,
   "metadata": {},
   "outputs": [],
   "source": [
    "def titres(lien):\n",
    "    url3 = lien\n",
    "    response3 = requests.get(url3)\n",
    "    les_h = []\n",
    "    if response3.ok:\n",
    "        soup3 = BeautifulSoup(response3.text, 'lxml')\n",
    "        article = soup3.find('article')  # le contenu est dans la balise article\n",
    "        h1 = article.find('h1')  # on extrait les titres de chaque article\n",
    "        les_h.append(h1.text)\n",
    "    return les_h"
   ]
  },
  {
   "cell_type": "code",
   "execution_count": null,
   "metadata": {},
   "outputs": [],
   "source": [
    "def contenu(lien):\n",
    "    url4 = lien\n",
    "    response4 = requests.get(url4)\n",
    "    content = []\n",
    "    if response4.ok:\n",
    "        soup4 = BeautifulSoup(response4.text, 'lxml')\n",
    "        articl = soup4.find('article')  # le contenu est dans la balise article\n",
    "        les_p = articl.findAll('p')  # on cherche le contenu des p\n",
    "        for p in les_p:\n",
    "            content.append(p.text)  # on met le contenu dans lise contenu\n",
    "    return content"
   ]
  },
  {
   "cell_type": "code",
   "execution_count": null,
   "metadata": {},
   "outputs": [],
   "source": [
    "nombre_pages = nbr_pages()\n",
    "inbr = 1"
   ]
  },
  {
   "cell_type": "code",
   "execution_count": null,
   "metadata": {},
   "outputs": [],
   "source": [
    "while inbr <= 16:\n",
    "    print(inbr)\n",
    "    istr = str(inbr)\n",
    "    links = liens(istr)\n",
    "    for link in links:\n",
    "        titles = titres(link)\n",
    "        contenus = contenu(link)\n",
    "        output = open('notes.txt', 'a', encoding='utf-8')\n",
    "        for h in titles:\n",
    "            output.write(h)\n",
    "            output.write(\"\\n\")\n",
    "        for c in contenus:\n",
    "            output.write(c)\n",
    "            output.write(\"\\n\")\n",
    "        output.close()\n",
    "    inbr = inbr + 1\n",
    "    print(\"ok\")"
   ]
  },
  {
   "cell_type": "code",
   "execution_count": null,
   "metadata": {},
   "outputs": [],
   "source": []
  }
 ],
 "metadata": {
  "kernelspec": {
   "display_name": "Python 3",
   "language": "python",
   "name": "python3"
  },
  "language_info": {
   "codemirror_mode": {
    "name": "ipython",
    "version": 3
   },
   "file_extension": ".py",
   "mimetype": "text/x-python",
   "name": "python",
   "nbconvert_exporter": "python",
   "pygments_lexer": "ipython3",
   "version": "3.8.5"
  }
 },
 "nbformat": 4,
 "nbformat_minor": 4
}
